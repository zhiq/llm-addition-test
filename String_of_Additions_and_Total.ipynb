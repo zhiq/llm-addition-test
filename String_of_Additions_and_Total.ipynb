{
  "nbformat": 4,
  "nbformat_minor": 0,
  "metadata": {
    "colab": {
      "provenance": [],
      "authorship_tag": "ABX9TyN3PdnmGsbRctXLeJqFahFy",
      "include_colab_link": true
    },
    "kernelspec": {
      "name": "python3",
      "display_name": "Python 3"
    },
    "language_info": {
      "name": "python"
    }
  },
  "cells": [
    {
      "cell_type": "markdown",
      "metadata": {
        "id": "view-in-github",
        "colab_type": "text"
      },
      "source": [
        "<a href=\"https://colab.research.google.com/github/zhiq/llm-addition-test/blob/main/String_of_Additions_and_Total.ipynb\" target=\"_parent\"><img src=\"https://colab.research.google.com/assets/colab-badge.svg\" alt=\"Open In Colab\"/></a>"
      ]
    },
    {
      "cell_type": "code",
      "execution_count": null,
      "metadata": {
        "id": "kUK59SStnGax"
      },
      "outputs": [],
      "source": [
        "import random\n",
        "\n",
        "# Generate 11 random single digits\n",
        "random_digits = [random.randint(0, 9) for _ in range(11)]\n",
        "\n",
        "# Create the sum string\n",
        "sum_string = \"+\".join(map(str, random_digits))\n",
        "\n",
        "# Calculate the sum of the digits\n",
        "total_sum = sum(random_digits)\n",
        "\n",
        "# Print the formatted output\n",
        "print(f\"{sum_string} = {total_sum}\")"
      ]
    }
  ]
}